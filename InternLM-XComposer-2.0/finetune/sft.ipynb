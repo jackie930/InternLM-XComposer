{
 "cells": [
  {
   "cell_type": "code",
   "execution_count": 11,
   "id": "75615684-e693-477d-9fa2-4aa7fede7530",
   "metadata": {
    "tags": []
   },
   "outputs": [],
   "source": [
    "!cp -r ../../../../../vila/data/test_imgs ./data/task_images/"
   ]
  },
  {
   "cell_type": "code",
   "execution_count": 18,
   "id": "86308246-22d1-4cae-9817-50af9d0849c5",
   "metadata": {
    "tags": []
   },
   "outputs": [
    {
     "name": "stdout",
     "output_type": "stream",
     "text": [
      "Collecting decord\n",
      "  Downloading decord-0.6.0-py3-none-manylinux2010_x86_64.whl.metadata (422 bytes)\n",
      "Requirement already satisfied: numpy>=1.14.0 in /home/ec2-user/anaconda3/envs/pytorch_p310/lib/python3.10/site-packages (from decord) (1.26.4)\n",
      "Downloading decord-0.6.0-py3-none-manylinux2010_x86_64.whl (13.6 MB)\n",
      "\u001b[2K   \u001b[90m━━━━━━━━━━━━━━━━━━━━━━━━━━━━━━━━━━━━━━━━\u001b[0m \u001b[32m13.6/13.6 MB\u001b[0m \u001b[31m68.2 MB/s\u001b[0m eta \u001b[36m0:00:00\u001b[0m:00:01\u001b[0m00:01\u001b[0m\n",
      "\u001b[?25hInstalling collected packages: decord\n",
      "Successfully installed decord-0.6.0\n"
     ]
    }
   ],
   "source": [
    "!pip install decord"
   ]
  },
  {
   "cell_type": "markdown",
   "id": "41dcad87-6e4b-4ae7-9935-e54a50855402",
   "metadata": {},
   "source": [
    "## process video"
   ]
  },
  {
   "cell_type": "code",
   "execution_count": 8,
   "id": "8812d5e6-41ac-4dbb-a63e-e84f227c8123",
   "metadata": {
    "tags": []
   },
   "outputs": [],
   "source": [
    "!mkdir -p ./data/task_imgs_25/train_imgs/positive\n",
    "!mkdir -p ./data/task_imgs_25/train_imgs/negative\n",
    "!mkdir -p ./data/task_imgs_25/test_imgs/positive\n",
    "!mkdir -p ./data/task_imgs_25/test_imgs/negative\n"
   ]
  },
  {
   "cell_type": "code",
   "execution_count": 20,
   "id": "3bb4637c-f398-4740-aa43-ee087a24748d",
   "metadata": {
    "tags": []
   },
   "outputs": [
    {
     "name": "stdout",
     "output_type": "stream",
     "text": [
      "Directory './data/task_imgs_25/train_imgs/positive' already exists\n",
      "100%|█████████████████████████████████████████| 800/800 [12:42<00:00,  1.05it/s]\n"
     ]
    }
   ],
   "source": [
    "!python process_video.py --input_video_folder ../../../../../vila/data/train/positive \\\n",
    "--output_image_folder ./data/task_imgs_25/train_imgs/positive \\\n",
    "--num_frm 25"
   ]
  },
  {
   "cell_type": "code",
   "execution_count": null,
   "id": "e6691126-3aab-4745-b4ff-e25cc087a28a",
   "metadata": {
    "tags": []
   },
   "outputs": [
    {
     "name": "stdout",
     "output_type": "stream",
     "text": [
      "Directory './data/task_imgs_25/train_imgs/negative' already exists\n",
      " 46%|███████████████████                      | 372/800 [09:46<08:17,  1.16s/it]"
     ]
    }
   ],
   "source": [
    "!python process_video.py --input_video_folder ../../../../../vila/data/train/negative \\\n",
    "--output_image_folder ./data/task_imgs_25/train_imgs/negative \\\n",
    "--num_frm 25"
   ]
  },
  {
   "cell_type": "code",
   "execution_count": null,
   "id": "7d979bd0-fdf3-4909-bde8-32ac0123aa59",
   "metadata": {
    "tags": []
   },
   "outputs": [],
   "source": [
    "!python process_video.py --input_video_folder ../../../../../vila/data/test/positive \\\n",
    "--output_image_folder ./data/task_imgs_25/test_imgs/positive \\\n",
    "--num_frm 25"
   ]
  },
  {
   "cell_type": "code",
   "execution_count": null,
   "id": "1d8be85c-8930-4582-96e0-18d058863c3a",
   "metadata": {
    "tags": []
   },
   "outputs": [],
   "source": [
    "!python process_video.py --input_video_folder ../../../../../vila/data/test/negative \\\n",
    "--output_image_folder ./data/task_imgs_25/test_imgs/negative \\\n",
    "--num_frm 25"
   ]
  },
  {
   "cell_type": "markdown",
   "id": "2007a673-e32d-4d30-b79a-9287e829d4b7",
   "metadata": {},
   "source": [
    "## process train.json/test.json"
   ]
  },
  {
   "cell_type": "code",
   "execution_count": 3,
   "id": "b46237e9-afbb-47ed-9385-e28b8d8e4263",
   "metadata": {
    "tags": []
   },
   "outputs": [
    {
     "name": "stdout",
     "output_type": "stream",
     "text": [
      "Data written to json\n",
      "Data written to json\n"
     ]
    }
   ],
   "source": [
    "## rewrite to 2.0\n",
    "!python process_data.py"
   ]
  },
  {
   "cell_type": "markdown",
   "id": "684472a4-20c4-45be-9158-6ddc10303122",
   "metadata": {},
   "source": [
    "## train\n",
    "prepare train-env: https://github.com/InternLM/InternLM-XComposer/blob/main/InternLM-XComposer-2.0/docs/install.md"
   ]
  },
  {
   "cell_type": "code",
   "execution_count": null,
   "id": "968e0df5-76e6-47d8-bae3-ada25980d080",
   "metadata": {
    "tags": []
   },
   "outputs": [],
   "source": [
    "'''\n",
    "conda create -n intern_clean python=3.9 -y\n",
    "source activate intern_clean\n",
    "pip3 install torch torchvision torchaudio\n",
    "pip install transformers==4.33.2 timm==0.4.12 sentencepiece==0.1.99 gradio==4.13.0 markdown2==2.4.10 xlsxwriter==3.1.2 einops\n",
    "# install deepspeed\n",
    "pip install deepspeed\n",
    "\n",
    "# install peft\n",
    "pip install peft\n",
    "'''"
   ]
  },
  {
   "cell_type": "code",
   "execution_count": null,
   "id": "f196e3ff-b639-4651-b3d7-bc0c5de00b3b",
   "metadata": {},
   "outputs": [],
   "source": [
    "!nohup sh finetune.sh --> trainmodelc0201.log 2>&1 &"
   ]
  },
  {
   "cell_type": "markdown",
   "id": "1a82c9ce-bc7c-4877-89cf-ef61828a9d5b",
   "metadata": {},
   "source": [
    "## test"
   ]
  },
  {
   "cell_type": "code",
   "execution_count": null,
   "id": "ea14a816-118c-444d-aef5-499ff84dade4",
   "metadata": {},
   "outputs": [],
   "source": [
    "!python inference_test.py"
   ]
  },
  {
   "cell_type": "markdown",
   "id": "3ec31d21-4bcf-4e8b-874c-02fd175de615",
   "metadata": {},
   "source": [
    "## acc calc"
   ]
  },
  {
   "cell_type": "code",
   "execution_count": 48,
   "id": "f081d080-0dca-4e81-b3ab-1249e3a6a599",
   "metadata": {
    "tags": []
   },
   "outputs": [
    {
     "name": "stdout",
     "output_type": "stream",
     "text": [
      "acc 0.81\n",
      "recall:  0.835\n",
      "precision:  0.7952380952380952\n"
     ]
    }
   ],
   "source": [
    "total_len = len(lines)\n",
    "label_total_yes = 0\n",
    "pred_total_yes = 0\n",
    "total_right = 0\n",
    "num = 0\n",
    "\n",
    "for i in lines:\n",
    "    pred, label = i.split(' ')[1],i.split(' ')[2]\n",
    "    if pred==label:\n",
    "        total_right += 1\n",
    "    if pred=='Yes':\n",
    "        pred_total_yes +=1\n",
    "    if label=='Yes':\n",
    "        label_total_yes +=1\n",
    "    if label=='Yes' and pred=='Yes':\n",
    "        num +=1\n",
    "        \n",
    "print (\"acc\", total_right/total_len)\n",
    "print (\"recall: \",  num/label_total_yes)\n",
    "print (\"precision: \",  num/pred_total_yes)"
   ]
  },
  {
   "cell_type": "code",
   "execution_count": 25,
   "id": "f561c23a-e656-435a-816f-7485f6e9e66d",
   "metadata": {
    "tags": []
   },
   "outputs": [
    {
     "name": "stdout",
     "output_type": "stream",
     "text": [
      "acc 0.475\n"
     ]
    }
   ],
   "source": [
    "print (\"acc\", total_right/total_len)"
   ]
  },
  {
   "cell_type": "code",
   "execution_count": 26,
   "id": "edbdb679-89e9-422f-b386-d3f46af38ba6",
   "metadata": {
    "tags": []
   },
   "outputs": [
    {
     "ename": "ZeroDivisionError",
     "evalue": "division by zero",
     "output_type": "error",
     "traceback": [
      "\u001b[0;31m---------------------------------------------------------------------------\u001b[0m",
      "\u001b[0;31mZeroDivisionError\u001b[0m                         Traceback (most recent call last)",
      "Cell \u001b[0;32mIn[26], line 1\u001b[0m\n\u001b[0;32m----> 1\u001b[0m \u001b[38;5;28mprint\u001b[39m (\u001b[38;5;124m\"\u001b[39m\u001b[38;5;124mrecall: \u001b[39m\u001b[38;5;124m\"\u001b[39m,  \u001b[43mnum\u001b[49m\u001b[38;5;241;43m/\u001b[39;49m\u001b[43mlabel_total_yes\u001b[49m)\n",
      "\u001b[0;31mZeroDivisionError\u001b[0m: division by zero"
     ]
    }
   ],
   "source": [
    "print (\"recall: \",  num/label_total_yes)"
   ]
  },
  {
   "cell_type": "code",
   "execution_count": 28,
   "id": "a4a1fbdc-82ba-4807-bac3-d857c8f215d9",
   "metadata": {
    "tags": []
   },
   "outputs": [
    {
     "name": "stdout",
     "output_type": "stream",
     "text": [
      "precision:  0.0\n"
     ]
    }
   ],
   "source": [
    "print (\"precision: \",  num/pred_total_yes)"
   ]
  },
  {
   "cell_type": "code",
   "execution_count": 2,
   "id": "568c339f-eab6-4ec8-999d-a7a89686cdad",
   "metadata": {
    "tags": []
   },
   "outputs": [
    {
     "name": "stdout",
     "output_type": "stream",
     "text": [
      "Collecting transformers\n",
      "  Downloading transformers-4.44.2-py3-none-any.whl.metadata (43 kB)\n",
      "\u001b[2K     \u001b[90m━━━━━━━━━━━━━━━━━━━━━━━━━━━━━━━━━━━━━━━━\u001b[0m \u001b[32m43.7/43.7 kB\u001b[0m \u001b[31m2.9 MB/s\u001b[0m eta \u001b[36m0:00:00\u001b[0m\n",
      "\u001b[?25hRequirement already satisfied: filelock in /home/ec2-user/anaconda3/envs/pytorch_p310/lib/python3.10/site-packages (from transformers) (3.15.4)\n",
      "Collecting huggingface-hub<1.0,>=0.23.2 (from transformers)\n",
      "  Downloading huggingface_hub-0.24.7-py3-none-any.whl.metadata (13 kB)\n",
      "Requirement already satisfied: numpy>=1.17 in /home/ec2-user/anaconda3/envs/pytorch_p310/lib/python3.10/site-packages (from transformers) (1.26.4)\n",
      "Requirement already satisfied: packaging>=20.0 in /home/ec2-user/anaconda3/envs/pytorch_p310/lib/python3.10/site-packages (from transformers) (21.3)\n",
      "Requirement already satisfied: pyyaml>=5.1 in /home/ec2-user/anaconda3/envs/pytorch_p310/lib/python3.10/site-packages (from transformers) (6.0.1)\n",
      "Collecting regex!=2019.12.17 (from transformers)\n",
      "  Downloading regex-2024.9.11-cp310-cp310-manylinux_2_17_x86_64.manylinux2014_x86_64.whl.metadata (40 kB)\n",
      "\u001b[2K     \u001b[90m━━━━━━━━━━━━━━━━━━━━━━━━━━━━━━━━━━━━━━━━\u001b[0m \u001b[32m40.5/40.5 kB\u001b[0m \u001b[31m7.7 MB/s\u001b[0m eta \u001b[36m0:00:00\u001b[0m\n",
      "\u001b[?25hRequirement already satisfied: requests in /home/ec2-user/anaconda3/envs/pytorch_p310/lib/python3.10/site-packages (from transformers) (2.32.3)\n",
      "Collecting safetensors>=0.4.1 (from transformers)\n",
      "  Downloading safetensors-0.4.5-cp310-cp310-manylinux_2_17_x86_64.manylinux2014_x86_64.whl.metadata (3.8 kB)\n",
      "Collecting tokenizers<0.20,>=0.19 (from transformers)\n",
      "  Downloading tokenizers-0.19.1-cp310-cp310-manylinux_2_17_x86_64.manylinux2014_x86_64.whl.metadata (6.7 kB)\n",
      "Requirement already satisfied: tqdm>=4.27 in /home/ec2-user/anaconda3/envs/pytorch_p310/lib/python3.10/site-packages (from transformers) (4.66.4)\n",
      "Requirement already satisfied: fsspec>=2023.5.0 in /home/ec2-user/anaconda3/envs/pytorch_p310/lib/python3.10/site-packages (from huggingface-hub<1.0,>=0.23.2->transformers) (2024.6.1)\n",
      "Requirement already satisfied: typing-extensions>=3.7.4.3 in /home/ec2-user/anaconda3/envs/pytorch_p310/lib/python3.10/site-packages (from huggingface-hub<1.0,>=0.23.2->transformers) (4.12.2)\n",
      "Requirement already satisfied: pyparsing!=3.0.5,>=2.0.2 in /home/ec2-user/anaconda3/envs/pytorch_p310/lib/python3.10/site-packages (from packaging>=20.0->transformers) (3.1.2)\n",
      "Requirement already satisfied: charset-normalizer<4,>=2 in /home/ec2-user/anaconda3/envs/pytorch_p310/lib/python3.10/site-packages (from requests->transformers) (3.3.2)\n",
      "Requirement already satisfied: idna<4,>=2.5 in /home/ec2-user/anaconda3/envs/pytorch_p310/lib/python3.10/site-packages (from requests->transformers) (3.7)\n",
      "Requirement already satisfied: urllib3<3,>=1.21.1 in /home/ec2-user/anaconda3/envs/pytorch_p310/lib/python3.10/site-packages (from requests->transformers) (2.2.2)\n",
      "Requirement already satisfied: certifi>=2017.4.17 in /home/ec2-user/anaconda3/envs/pytorch_p310/lib/python3.10/site-packages (from requests->transformers) (2024.7.4)\n",
      "Downloading transformers-4.44.2-py3-none-any.whl (9.5 MB)\n",
      "\u001b[2K   \u001b[90m━━━━━━━━━━━━━━━━━━━━━━━━━━━━━━━━━━━━━━━━\u001b[0m \u001b[32m9.5/9.5 MB\u001b[0m \u001b[31m79.7 MB/s\u001b[0m eta \u001b[36m0:00:00\u001b[0m:00:01\u001b[0m00:01\u001b[0m\n",
      "\u001b[?25hDownloading huggingface_hub-0.24.7-py3-none-any.whl (417 kB)\n",
      "\u001b[2K   \u001b[90m━━━━━━━━━━━━━━━━━━━━━━━━━━━━━━━━━━━━━━━━\u001b[0m \u001b[32m417.5/417.5 kB\u001b[0m \u001b[31m67.8 MB/s\u001b[0m eta \u001b[36m0:00:00\u001b[0m\n",
      "\u001b[?25hDownloading regex-2024.9.11-cp310-cp310-manylinux_2_17_x86_64.manylinux2014_x86_64.whl (782 kB)\n",
      "\u001b[2K   \u001b[90m━━━━━━━━━━━━━━━━━━━━━━━━━━━━━━━━━━━━━━━━\u001b[0m \u001b[32m782.7/782.7 kB\u001b[0m \u001b[31m84.6 MB/s\u001b[0m eta \u001b[36m0:00:00\u001b[0m\n",
      "\u001b[?25hDownloading safetensors-0.4.5-cp310-cp310-manylinux_2_17_x86_64.manylinux2014_x86_64.whl (435 kB)\n",
      "\u001b[2K   \u001b[90m━━━━━━━━━━━━━━━━━━━━━━━━━━━━━━━━━━━━━━━━\u001b[0m \u001b[32m435.0/435.0 kB\u001b[0m \u001b[31m63.2 MB/s\u001b[0m eta \u001b[36m0:00:00\u001b[0m\n",
      "\u001b[?25hDownloading tokenizers-0.19.1-cp310-cp310-manylinux_2_17_x86_64.manylinux2014_x86_64.whl (3.6 MB)\n",
      "\u001b[2K   \u001b[90m━━━━━━━━━━━━━━━━━━━━━━━━━━━━━━━━━━━━━━━━\u001b[0m \u001b[32m3.6/3.6 MB\u001b[0m \u001b[31m117.8 MB/s\u001b[0m eta \u001b[36m0:00:00\u001b[0m\n",
      "\u001b[?25hInstalling collected packages: safetensors, regex, huggingface-hub, tokenizers, transformers\n",
      "Successfully installed huggingface-hub-0.24.7 regex-2024.9.11 safetensors-0.4.5 tokenizers-0.19.1 transformers-4.44.2\n"
     ]
    }
   ],
   "source": [
    "!pip install transformers "
   ]
  },
  {
   "cell_type": "code",
   "execution_count": 1,
   "id": "3ff808bd-e13a-4ed9-8f48-5766d5c2351d",
   "metadata": {
    "tags": []
   },
   "outputs": [
    {
     "ename": "ModuleNotFoundError",
     "evalue": "No module named 'transformers'",
     "output_type": "error",
     "traceback": [
      "\u001b[0;31m---------------------------------------------------------------------------\u001b[0m",
      "\u001b[0;31mModuleNotFoundError\u001b[0m                       Traceback (most recent call last)",
      "Cell \u001b[0;32mIn[1], line 2\u001b[0m\n\u001b[1;32m      1\u001b[0m \u001b[38;5;28;01mimport\u001b[39;00m \u001b[38;5;21;01mtorch\u001b[39;00m\n\u001b[0;32m----> 2\u001b[0m \u001b[38;5;28;01mfrom\u001b[39;00m \u001b[38;5;21;01mtransformers\u001b[39;00m \u001b[38;5;28;01mimport\u001b[39;00m AutoModel, AutoTokenizer\n\u001b[1;32m      3\u001b[0m \u001b[38;5;28;01mimport\u001b[39;00m \u001b[38;5;21;01mjson\u001b[39;00m\n\u001b[1;32m      4\u001b[0m \u001b[38;5;28;01mfrom\u001b[39;00m \u001b[38;5;21;01mtqdm\u001b[39;00m \u001b[38;5;28;01mimport\u001b[39;00m tqdm\n",
      "\u001b[0;31mModuleNotFoundError\u001b[0m: No module named 'transformers'"
     ]
    }
   ],
   "source": [
    "import torch\n",
    "from transformers import AutoModel, AutoTokenizer\n",
    "import json\n",
    "from tqdm import tqdm\n",
    "\n",
    "torch.set_grad_enabled(False)\n",
    "\n",
    "def load_model(model_nameorpath):\n",
    "    # init model and tokenizer\n",
    "    model = AutoModel.from_pretrained(model_nameorpath, trust_remote_code=True).cuda().eval()\n",
    "    tokenizer = AutoTokenizer.from_pretrained(model_nameorpath, trust_remote_code=True)\n",
    "    return model, tokenizer\n",
    "\n",
    "def single_infer(img_path,model,tokenizer):\n",
    "    text = '<ImageHere>仔细描述这张图'\n",
    "    image = img_path\n",
    "    with torch.cuda.amp.autocast():\n",
    "      response, _ = model.chat(tokenizer, query=text, image=image, history=[], do_sample=False)\n",
    "\n",
    "    return response\n"
   ]
  },
  {
   "cell_type": "code",
   "execution_count": null,
   "id": "4cbb411b-f885-464b-895a-a2bb7e7df6e7",
   "metadata": {},
   "outputs": [],
   "source": [
    "model_nameorpath = ''\n",
    "img_path = ''\n",
    "model, tokenizer = load_model(model_nameorpath)\n",
    "res = single_infer(img_path,model,tokenizer)"
   ]
  }
 ],
 "metadata": {
  "kernelspec": {
   "display_name": "conda_pytorch_p310",
   "language": "python",
   "name": "conda_pytorch_p310"
  },
  "language_info": {
   "codemirror_mode": {
    "name": "ipython",
    "version": 3
   },
   "file_extension": ".py",
   "mimetype": "text/x-python",
   "name": "python",
   "nbconvert_exporter": "python",
   "pygments_lexer": "ipython3",
   "version": "3.10.14"
  }
 },
 "nbformat": 4,
 "nbformat_minor": 5
}
